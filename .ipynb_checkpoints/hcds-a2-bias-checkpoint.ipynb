{
 "cells": [
  {
   "cell_type": "markdown",
   "metadata": {},
   "source": [
    "# Investigating Bias in Wikipedia Articles About Political Figures"
   ]
  },
  {
   "cell_type": "markdown",
   "metadata": {},
   "source": [
    "The goal of this project is analysing articles on political figures, and using their existence and quality to examine the different kinds of bias in Wikipedia's data."
   ]
  },
  {
   "cell_type": "markdown",
   "metadata": {},
   "source": [
    "First, read in all the packages that we require for this analysis"
   ]
  },
  {
   "cell_type": "code",
   "execution_count": 130,
   "metadata": {},
   "outputs": [],
   "source": [
    "import pandas as pd\n",
    "import csv\n",
    "import requests\n",
    "import json\n",
    "import numpy as np\n",
    "from IPython.display import display, HTML\n",
    "from copy import deepcopy"
   ]
  },
  {
   "cell_type": "markdown",
   "metadata": {},
   "source": [
    "## Step 1: Reading in the Data"
   ]
  },
  {
   "cell_type": "markdown",
   "metadata": {},
   "source": [
    "The first step that we do is read in the data that we're using for this analysis. We use two data sources in this analysis. \n",
    "\n",
    "The first data source contains articles about political figures by country. This data source is contained in a zip folder titled country.zip and can be found at the following link: https://figshare.com/articles/Untitled_Item/5513449. The data file is stored in the data directory of the country directory. It is titled page_data.csv. The first step that I take is reading the data into a Pandas dataframe. This data is licensed under CC-BY-SA 4.0 license. You can distribute the data, but you **must** attribute."
   ]
  },
  {
   "cell_type": "code",
   "execution_count": 2,
   "metadata": {},
   "outputs": [],
   "source": [
    "page_data = pd.read_csv('data/raw/page_data.csv')"
   ]
  },
  {
   "cell_type": "code",
   "execution_count": 3,
   "metadata": {},
   "outputs": [
    {
     "data": {
      "text/html": [
       "<div>\n",
       "<style scoped>\n",
       "    .dataframe tbody tr th:only-of-type {\n",
       "        vertical-align: middle;\n",
       "    }\n",
       "\n",
       "    .dataframe tbody tr th {\n",
       "        vertical-align: top;\n",
       "    }\n",
       "\n",
       "    .dataframe thead th {\n",
       "        text-align: right;\n",
       "    }\n",
       "</style>\n",
       "<table border=\"1\" class=\"dataframe\">\n",
       "  <thead>\n",
       "    <tr style=\"text-align: right;\">\n",
       "      <th></th>\n",
       "      <th>page</th>\n",
       "      <th>country</th>\n",
       "      <th>rev_id</th>\n",
       "    </tr>\n",
       "  </thead>\n",
       "  <tbody>\n",
       "    <tr>\n",
       "      <th>0</th>\n",
       "      <td>Template:ZambiaProvincialMinisters</td>\n",
       "      <td>Zambia</td>\n",
       "      <td>235107991</td>\n",
       "    </tr>\n",
       "    <tr>\n",
       "      <th>1</th>\n",
       "      <td>Bir I of Kanem</td>\n",
       "      <td>Chad</td>\n",
       "      <td>355319463</td>\n",
       "    </tr>\n",
       "    <tr>\n",
       "      <th>2</th>\n",
       "      <td>Template:Zimbabwe-politician-stub</td>\n",
       "      <td>Zimbabwe</td>\n",
       "      <td>391862046</td>\n",
       "    </tr>\n",
       "    <tr>\n",
       "      <th>3</th>\n",
       "      <td>Template:Uganda-politician-stub</td>\n",
       "      <td>Uganda</td>\n",
       "      <td>391862070</td>\n",
       "    </tr>\n",
       "    <tr>\n",
       "      <th>4</th>\n",
       "      <td>Template:Namibia-politician-stub</td>\n",
       "      <td>Namibia</td>\n",
       "      <td>391862409</td>\n",
       "    </tr>\n",
       "  </tbody>\n",
       "</table>\n",
       "</div>"
      ],
      "text/plain": [
       "                                 page   country     rev_id\n",
       "0  Template:ZambiaProvincialMinisters    Zambia  235107991\n",
       "1                      Bir I of Kanem      Chad  355319463\n",
       "2   Template:Zimbabwe-politician-stub  Zimbabwe  391862046\n",
       "3     Template:Uganda-politician-stub    Uganda  391862070\n",
       "4    Template:Namibia-politician-stub   Namibia  391862409"
      ]
     },
     "execution_count": 3,
     "metadata": {},
     "output_type": "execute_result"
    }
   ],
   "source": [
    "page_data.head()"
   ]
  },
  {
   "cell_type": "markdown",
   "metadata": {},
   "source": [
    "The page_data data contains three columns, page, country and rev_id. The rev_id is what we use to call the ORES API."
   ]
  },
  {
   "cell_type": "markdown",
   "metadata": {},
   "source": [
    "The other data that we use is the population data. This data contains world populations for 207 countries as of 2018. The file can be found at the following link: https://www.dropbox.com/s/5u7sy1xt7g0oi2c/WPDS_2018_data.csv?dl=0. In order to download it, hit the download button at the top right corner, and select direct download. Let's load and have a look at this data. No license is explicitly stated for the data, so according to convention, it likely means that all rights are reserved for the data. Due to this not being stated, I am not including the data with this repository. You will need to download the data from the link to use it."
   ]
  },
  {
   "cell_type": "code",
   "execution_count": 4,
   "metadata": {},
   "outputs": [],
   "source": [
    "population_data = pd.read_csv('data/raw/WPDS_2018_data.csv')"
   ]
  },
  {
   "cell_type": "code",
   "execution_count": 5,
   "metadata": {},
   "outputs": [
    {
     "data": {
      "text/html": [
       "<div>\n",
       "<style scoped>\n",
       "    .dataframe tbody tr th:only-of-type {\n",
       "        vertical-align: middle;\n",
       "    }\n",
       "\n",
       "    .dataframe tbody tr th {\n",
       "        vertical-align: top;\n",
       "    }\n",
       "\n",
       "    .dataframe thead th {\n",
       "        text-align: right;\n",
       "    }\n",
       "</style>\n",
       "<table border=\"1\" class=\"dataframe\">\n",
       "  <thead>\n",
       "    <tr style=\"text-align: right;\">\n",
       "      <th></th>\n",
       "      <th>Geography</th>\n",
       "      <th>Population mid-2018 (millions)</th>\n",
       "    </tr>\n",
       "  </thead>\n",
       "  <tbody>\n",
       "    <tr>\n",
       "      <th>0</th>\n",
       "      <td>AFRICA</td>\n",
       "      <td>1,284</td>\n",
       "    </tr>\n",
       "    <tr>\n",
       "      <th>1</th>\n",
       "      <td>Algeria</td>\n",
       "      <td>42.7</td>\n",
       "    </tr>\n",
       "    <tr>\n",
       "      <th>2</th>\n",
       "      <td>Egypt</td>\n",
       "      <td>97</td>\n",
       "    </tr>\n",
       "    <tr>\n",
       "      <th>3</th>\n",
       "      <td>Libya</td>\n",
       "      <td>6.5</td>\n",
       "    </tr>\n",
       "    <tr>\n",
       "      <th>4</th>\n",
       "      <td>Morocco</td>\n",
       "      <td>35.2</td>\n",
       "    </tr>\n",
       "  </tbody>\n",
       "</table>\n",
       "</div>"
      ],
      "text/plain": [
       "  Geography Population mid-2018 (millions)\n",
       "0    AFRICA                          1,284\n",
       "1   Algeria                           42.7\n",
       "2     Egypt                             97\n",
       "3     Libya                            6.5\n",
       "4   Morocco                           35.2"
      ]
     },
     "execution_count": 5,
     "metadata": {},
     "output_type": "execute_result"
    }
   ],
   "source": [
    "population_data.head()"
   ]
  },
  {
   "cell_type": "markdown",
   "metadata": {},
   "source": [
    "As observed above, this data contains two columns, one listing the country and the population of that country as of mid-2018 (in millions)."
   ]
  },
  {
   "cell_type": "markdown",
   "metadata": {},
   "source": [
    "## Step 2: Get Article Scores from ORES"
   ]
  },
  {
   "cell_type": "markdown",
   "metadata": {},
   "source": [
    "As a part of this investigation, we need to determine the countries with the highest and lowest proportion of high quality articles about politicians. In order to do this, we require article scores, which we can obtain using the ORES API. \n",
    "\n",
    "You can find the documentation for the ORES API at this link: https://www.mediawiki.org/wiki/ORES.\n",
    "\n",
    "The first step that we take is setting up the endpoints and headers."
   ]
  },
  {
   "cell_type": "code",
   "execution_count": 6,
   "metadata": {},
   "outputs": [],
   "source": [
    "endpoint_def = 'https://ores.wikimedia.org/v3/scores/{project}/?models={model}&revids={revids}'\n",
    "headers = {'User-Agent' : 'https://github.com/tejasmhos', 'From' : 'tejash@uw.edu'}"
   ]
  },
  {
   "cell_type": "markdown",
   "metadata": {},
   "source": [
    "After that's done, we can proceed to write a function that goes through the list of all rev_id's and returns the score that's associated with the article."
   ]
  },
  {
   "cell_type": "code",
   "execution_count": 7,
   "metadata": {},
   "outputs": [],
   "source": [
    "rev_ids = list(page_data['rev_id'])"
   ]
  },
  {
   "cell_type": "code",
   "execution_count": 8,
   "metadata": {},
   "outputs": [],
   "source": [
    "def get_ores_data(revision_ids, headers):\n",
    "    \"\"\"\n",
    "    This code was taken from the sample notebook that was provided to us. All code belongs to\n",
    "    its original author, who in this case is Os. \n",
    "    \"\"\"\n",
    "    # Define the endpoint\n",
    "    endpoint = endpoint_def\n",
    "    \n",
    "    #Define the parameters\n",
    "    params = {'project' : 'enwiki',\n",
    "              'model'   : 'wp10',\n",
    "              'revids'  : '|'.join(str(x) for x in revision_ids)\n",
    "              }\n",
    "    api_call = requests.get(endpoint.format(**params))\n",
    "    response = api_call.json()\n",
    "    return response"
   ]
  },
  {
   "cell_type": "code",
   "execution_count": 9,
   "metadata": {},
   "outputs": [],
   "source": [
    "def predictions_split(rev_ids):\n",
    "    \"\"\"\n",
    "    This function takes the rev_ids list, iterates 100 rows at a time\n",
    "    and then combines the results together to form the final list of \n",
    "    revids and ratings. This is done 100 at a time due to the API having\n",
    "    a limit on the number of values that can be passed at once. The return\n",
    "    object is a dataframe that contains the revids and the rating for \n",
    "    those revids\n",
    "    \"\"\"\n",
    "    start = 0\n",
    "    flag = 0\n",
    "    end = 100\n",
    "    dataframe_final = pd.DataFrame(columns=['rev_ids','ratings'])\n",
    "    while(1):\n",
    "        response_ores = get_ores_data(rev_ids[start:end], headers)\n",
    "        for revid in response_ores['enwiki']['scores']:\n",
    "            try:\n",
    "                rating = response_ores['enwiki']['scores'][revid]['wp10']['score']['prediction']\n",
    "            except:\n",
    "                rating = np.nan\n",
    "            dataframe_final = dataframe_final.append({'rev_ids':revid, 'ratings':rating}, ignore_index=True)\n",
    "        if flag == 1:\n",
    "            break\n",
    "        start +=100\n",
    "        if end+100 > len(rev_ids):\n",
    "            end = len(rev_ids)\n",
    "            flag = 1\n",
    "        else:\n",
    "            end += 100\n",
    "    return dataframe_final"
   ]
  },
  {
   "cell_type": "markdown",
   "metadata": {},
   "source": [
    "The next step is running our code on the list of rev_ids, and getting the ratings associated with them. Some articles may not be in the database, so we assign a NaN value to those articles. Those then disappear when we join this data back to the original page_data dataframe."
   ]
  },
  {
   "cell_type": "code",
   "execution_count": 10,
   "metadata": {},
   "outputs": [],
   "source": [
    "#run the code, get the results for ratings\n",
    "result = predictions_split(rev_ids)"
   ]
  },
  {
   "cell_type": "markdown",
   "metadata": {},
   "source": [
    "## Step 3: Joining Datasets Together to Get Final Dataset"
   ]
  },
  {
   "cell_type": "markdown",
   "metadata": {},
   "source": [
    "The final step to constructing our complete dataset is performing a number of joins. We first join the result dataframe with the page_data dataframe on the rev_id. \n",
    "\n",
    "Before we do this, the type of rev_id in the results dataframe is of type string. We need to coerce the type of this column to int to ensure that the join works correctly. Thats what we do below."
   ]
  },
  {
   "cell_type": "code",
   "execution_count": 70,
   "metadata": {},
   "outputs": [],
   "source": [
    "#explicit type conversion\n",
    "result['rev_ids'] = result['rev_ids'].astype(int)"
   ]
  },
  {
   "cell_type": "markdown",
   "metadata": {},
   "source": [
    "Now we perform the merge operation on page_data and result dataframes on the column rev_id and rev_ids respectively."
   ]
  },
  {
   "cell_type": "code",
   "execution_count": 71,
   "metadata": {},
   "outputs": [],
   "source": [
    "intermed_2 = page_data.merge(result, left_on='rev_id', right_on='rev_ids', how='inner')"
   ]
  },
  {
   "cell_type": "markdown",
   "metadata": {},
   "source": [
    "The next step is joining this intermediate table to the country table. We do this join on the country fields in both the tables. In order to avoid any sort of mismatch in case, I lower the case of the country in both tables to ensure a join that's as synergetic as possible. "
   ]
  },
  {
   "cell_type": "code",
   "execution_count": 72,
   "metadata": {},
   "outputs": [],
   "source": [
    "intermed_2['country'] = intermed_2['country'].apply(lambda x:x.lower())\n",
    "population_data['Geography'] = population_data['Geography'].apply(lambda x:x.lower())"
   ]
  },
  {
   "cell_type": "code",
   "execution_count": 73,
   "metadata": {},
   "outputs": [],
   "source": [
    "#perform the final join\n",
    "final_data = intermed_2.merge(population_data, left_on ='country', right_on = 'Geography', how='inner')"
   ]
  },
  {
   "cell_type": "code",
   "execution_count": 74,
   "metadata": {},
   "outputs": [],
   "source": [
    "#remove the nans from the table\n",
    "final_data.dropna(inplace=True)"
   ]
  },
  {
   "cell_type": "code",
   "execution_count": 75,
   "metadata": {},
   "outputs": [],
   "source": [
    "#Select the columns we need, remove duplicate columns\n",
    "final_data = final_data[['country', 'rev_id', 'page','Population mid-2018 (millions)','ratings']]"
   ]
  },
  {
   "cell_type": "code",
   "execution_count": 76,
   "metadata": {},
   "outputs": [],
   "source": [
    "#reset the index\n",
    "final_data.reset_index(inplace = True)"
   ]
  },
  {
   "cell_type": "code",
   "execution_count": 77,
   "metadata": {},
   "outputs": [],
   "source": [
    "#rename column names according to convention\n",
    "final_data.rename(index=str, columns={\"page\": \"article_name\", \"rev_id\": \"revision_id\",\"ratings\":\"article_quality\", \"Population mid-2018 (millions)\":\"population\"}, inplace=True)"
   ]
  },
  {
   "cell_type": "code",
   "execution_count": 78,
   "metadata": {},
   "outputs": [],
   "source": [
    "#Again, duplication columns and index is removed\n",
    "final_data = final_data[['country', 'article_name', 'revision_id', 'article_quality','population']]\n",
    "final_data['population'] = final_data['population'].apply(lambda x:x.replace(',',''))\n",
    "final_data['population'] = final_data['population'].astype('float')\n",
    "#Converting to millions\n",
    "final_data['population'] = final_data['population'].apply(lambda x:x*1000000)\n",
    "#Again, back to int\n",
    "final_data['population'] = final_data['population'].astype(int)"
   ]
  },
  {
   "cell_type": "code",
   "execution_count": 135,
   "metadata": {},
   "outputs": [
    {
     "data": {
      "text/html": [
       "<div>\n",
       "<style scoped>\n",
       "    .dataframe tbody tr th:only-of-type {\n",
       "        vertical-align: middle;\n",
       "    }\n",
       "\n",
       "    .dataframe tbody tr th {\n",
       "        vertical-align: top;\n",
       "    }\n",
       "\n",
       "    .dataframe thead th {\n",
       "        text-align: right;\n",
       "    }\n",
       "</style>\n",
       "<table border=\"1\" class=\"dataframe\">\n",
       "  <thead>\n",
       "    <tr style=\"text-align: right;\">\n",
       "      <th></th>\n",
       "      <th>country</th>\n",
       "      <th>article_name</th>\n",
       "      <th>revision_id</th>\n",
       "      <th>article_quality</th>\n",
       "      <th>population</th>\n",
       "    </tr>\n",
       "  </thead>\n",
       "  <tbody>\n",
       "    <tr>\n",
       "      <th>0</th>\n",
       "      <td>zambia</td>\n",
       "      <td>Gladys Lundwe</td>\n",
       "      <td>757566606</td>\n",
       "      <td>Stub</td>\n",
       "      <td>17700000</td>\n",
       "    </tr>\n",
       "    <tr>\n",
       "      <th>1</th>\n",
       "      <td>zambia</td>\n",
       "      <td>Mwamba Luchembe</td>\n",
       "      <td>764848643</td>\n",
       "      <td>Stub</td>\n",
       "      <td>17700000</td>\n",
       "    </tr>\n",
       "    <tr>\n",
       "      <th>2</th>\n",
       "      <td>zambia</td>\n",
       "      <td>Thandiwe Banda</td>\n",
       "      <td>768166426</td>\n",
       "      <td>Start</td>\n",
       "      <td>17700000</td>\n",
       "    </tr>\n",
       "    <tr>\n",
       "      <th>3</th>\n",
       "      <td>zambia</td>\n",
       "      <td>Sylvester Chisembele</td>\n",
       "      <td>776082926</td>\n",
       "      <td>C</td>\n",
       "      <td>17700000</td>\n",
       "    </tr>\n",
       "    <tr>\n",
       "      <th>4</th>\n",
       "      <td>zambia</td>\n",
       "      <td>Victoria Kalima</td>\n",
       "      <td>776530837</td>\n",
       "      <td>Start</td>\n",
       "      <td>17700000</td>\n",
       "    </tr>\n",
       "  </tbody>\n",
       "</table>\n",
       "</div>"
      ],
      "text/plain": [
       "  country          article_name  revision_id article_quality  population\n",
       "0  zambia         Gladys Lundwe    757566606            Stub    17700000\n",
       "1  zambia       Mwamba Luchembe    764848643            Stub    17700000\n",
       "2  zambia        Thandiwe Banda    768166426           Start    17700000\n",
       "3  zambia  Sylvester Chisembele    776082926               C    17700000\n",
       "4  zambia       Victoria Kalima    776530837           Start    17700000"
      ]
     },
     "execution_count": 135,
     "metadata": {},
     "output_type": "execute_result"
    }
   ],
   "source": [
    "#Having a look at how our final data looks\n",
    "final_data.head()"
   ]
  },
  {
   "cell_type": "markdown",
   "metadata": {},
   "source": [
    "We performed a number of steps here. Firstly, we dropped the NaNs from the ratings. Next, we selected the columns that we require for this analysis, and got rid of columns that were duplicated as a result of the join. Finally, we reset the index so that the index was sequential. We also renamed the columns in accordance with the scheme that was given .Since our data is processed and ready, we save it to a CSV and proceed to the next stage which is the analysis step."
   ]
  },
  {
   "cell_type": "code",
   "execution_count": 79,
   "metadata": {},
   "outputs": [],
   "source": [
    "final_data.to_csv('data/final_data.csv')"
   ]
  },
  {
   "cell_type": "markdown",
   "metadata": {},
   "source": [
    "## Step 4: Performing Analysis"
   ]
  },
  {
   "cell_type": "markdown",
   "metadata": {},
   "source": [
    "There are two analyses that we perform. The first analysis is addressed here. We need to find the proportion of articles per population of a country. "
   ]
  },
  {
   "cell_type": "markdown",
   "metadata": {},
   "source": [
    "### Analysis 1 : Countries with the highest and lowest proportion of articles as compared to their population"
   ]
  },
  {
   "cell_type": "markdown",
   "metadata": {},
   "source": [
    "This analysis is pretty simple. We run a simple groupby on the country and population, and get the count of the number of articles that are associated with this country. "
   ]
  },
  {
   "cell_type": "code",
   "execution_count": 103,
   "metadata": {},
   "outputs": [],
   "source": [
    "prop_articles_per_country = final_data.groupby(['country','population'])['revision_id'].count().to_frame()\n",
    "prop_articles_per_country = prop_articles_per_country.reset_index()"
   ]
  },
  {
   "cell_type": "code",
   "execution_count": 106,
   "metadata": {},
   "outputs": [],
   "source": [
    "#Calculating the proportions\n",
    "prop_articles_per_country['proportions'] = (prop_articles_per_country['revision_id']/prop_articles_per_country['population']) * 100"
   ]
  },
  {
   "cell_type": "code",
   "execution_count": 125,
   "metadata": {},
   "outputs": [
    {
     "data": {
      "text/html": [
       "<style type=\"text/css\">\n",
       "    table.dataframe td, table.dataframe th {\n",
       "        border-style: solid;\n",
       "    }\n",
       "</style>"
      ],
      "text/plain": [
       "<IPython.core.display.HTML object>"
      ]
     },
     "metadata": {},
     "output_type": "display_data"
    }
   ],
   "source": [
    "#This code styles the tables to make them look good\n",
    "%%HTML\n",
    "<style type=\"text/css\">\n",
    "    table.dataframe td, table.dataframe th {\n",
    "        border-style: solid;\n",
    "    }\n",
    "</style>"
   ]
  },
  {
   "cell_type": "code",
   "execution_count": 201,
   "metadata": {},
   "outputs": [],
   "source": [
    "prop_articles_per_country = prop_articles_per_country.rename(columns = {'revision_id':'number_of_articles'})"
   ]
  },
  {
   "cell_type": "code",
   "execution_count": 203,
   "metadata": {},
   "outputs": [
    {
     "data": {
      "text/html": [
       "<div>\n",
       "<style scoped>\n",
       "    .dataframe tbody tr th:only-of-type {\n",
       "        vertical-align: middle;\n",
       "    }\n",
       "\n",
       "    .dataframe tbody tr th {\n",
       "        vertical-align: top;\n",
       "    }\n",
       "\n",
       "    .dataframe thead th {\n",
       "        text-align: right;\n",
       "    }\n",
       "</style>\n",
       "<table border=\"1\" class=\"dataframe\">\n",
       "  <thead>\n",
       "    <tr style=\"text-align: right;\">\n",
       "      <th></th>\n",
       "      <th>country</th>\n",
       "      <th>population</th>\n",
       "      <th>number_of_articles</th>\n",
       "      <th>proportions</th>\n",
       "    </tr>\n",
       "  </thead>\n",
       "  <tbody>\n",
       "    <tr>\n",
       "      <th>166</th>\n",
       "      <td>tuvalu</td>\n",
       "      <td>10000</td>\n",
       "      <td>55</td>\n",
       "      <td>0.550000</td>\n",
       "    </tr>\n",
       "    <tr>\n",
       "      <th>115</th>\n",
       "      <td>nauru</td>\n",
       "      <td>10000</td>\n",
       "      <td>53</td>\n",
       "      <td>0.530000</td>\n",
       "    </tr>\n",
       "    <tr>\n",
       "      <th>135</th>\n",
       "      <td>san marino</td>\n",
       "      <td>30000</td>\n",
       "      <td>82</td>\n",
       "      <td>0.273333</td>\n",
       "    </tr>\n",
       "    <tr>\n",
       "      <th>108</th>\n",
       "      <td>monaco</td>\n",
       "      <td>40000</td>\n",
       "      <td>40</td>\n",
       "      <td>0.100000</td>\n",
       "    </tr>\n",
       "    <tr>\n",
       "      <th>93</th>\n",
       "      <td>liechtenstein</td>\n",
       "      <td>40000</td>\n",
       "      <td>29</td>\n",
       "      <td>0.072500</td>\n",
       "    </tr>\n",
       "    <tr>\n",
       "      <th>161</th>\n",
       "      <td>tonga</td>\n",
       "      <td>100000</td>\n",
       "      <td>63</td>\n",
       "      <td>0.063000</td>\n",
       "    </tr>\n",
       "    <tr>\n",
       "      <th>103</th>\n",
       "      <td>marshall islands</td>\n",
       "      <td>60000</td>\n",
       "      <td>37</td>\n",
       "      <td>0.061667</td>\n",
       "    </tr>\n",
       "    <tr>\n",
       "      <th>68</th>\n",
       "      <td>iceland</td>\n",
       "      <td>400000</td>\n",
       "      <td>206</td>\n",
       "      <td>0.051500</td>\n",
       "    </tr>\n",
       "    <tr>\n",
       "      <th>3</th>\n",
       "      <td>andorra</td>\n",
       "      <td>80000</td>\n",
       "      <td>34</td>\n",
       "      <td>0.042500</td>\n",
       "    </tr>\n",
       "    <tr>\n",
       "      <th>52</th>\n",
       "      <td>federated states of micronesia</td>\n",
       "      <td>100000</td>\n",
       "      <td>38</td>\n",
       "      <td>0.038000</td>\n",
       "    </tr>\n",
       "  </tbody>\n",
       "</table>\n",
       "</div>"
      ],
      "text/plain": [
       "                            country  population  number_of_articles  \\\n",
       "166                          tuvalu       10000                  55   \n",
       "115                           nauru       10000                  53   \n",
       "135                      san marino       30000                  82   \n",
       "108                          monaco       40000                  40   \n",
       "93                    liechtenstein       40000                  29   \n",
       "161                           tonga      100000                  63   \n",
       "103                marshall islands       60000                  37   \n",
       "68                          iceland      400000                 206   \n",
       "3                           andorra       80000                  34   \n",
       "52   federated states of micronesia      100000                  38   \n",
       "\n",
       "     proportions  \n",
       "166     0.550000  \n",
       "115     0.530000  \n",
       "135     0.273333  \n",
       "108     0.100000  \n",
       "93      0.072500  \n",
       "161     0.063000  \n",
       "103     0.061667  \n",
       "68      0.051500  \n",
       "3       0.042500  \n",
       "52      0.038000  "
      ]
     },
     "execution_count": 203,
     "metadata": {},
     "output_type": "execute_result"
    }
   ],
   "source": [
    "#10 highest ranked countries with respect to number of articles as a proportion of population\n",
    "prop_articles_per_country.sort_values(by='proportions', ascending = False).head(10)[['country', 'population','number_of_articles', 'proportions']]"
   ]
  },
  {
   "cell_type": "markdown",
   "metadata": {},
   "source": [
    "The table above shows the countries that have the highest rank with respect to the number of articles as a proportion of their population. The results aren't that surprising, the countries that have a small population have a higher proportion of articles with respect to the size of their population. The highest being Tuvalu and Nauru, both extremely small islands in Australia. "
   ]
  },
  {
   "cell_type": "code",
   "execution_count": 204,
   "metadata": {},
   "outputs": [
    {
     "data": {
      "text/html": [
       "<div>\n",
       "<style scoped>\n",
       "    .dataframe tbody tr th:only-of-type {\n",
       "        vertical-align: middle;\n",
       "    }\n",
       "\n",
       "    .dataframe tbody tr th {\n",
       "        vertical-align: top;\n",
       "    }\n",
       "\n",
       "    .dataframe thead th {\n",
       "        text-align: right;\n",
       "    }\n",
       "</style>\n",
       "<table border=\"1\" class=\"dataframe\">\n",
       "  <thead>\n",
       "    <tr style=\"text-align: right;\">\n",
       "      <th></th>\n",
       "      <th>country</th>\n",
       "      <th>population</th>\n",
       "      <th>number_of_articles</th>\n",
       "      <th>proportions</th>\n",
       "    </tr>\n",
       "  </thead>\n",
       "  <tbody>\n",
       "    <tr>\n",
       "      <th>69</th>\n",
       "      <td>india</td>\n",
       "      <td>1371300000</td>\n",
       "      <td>986</td>\n",
       "      <td>0.000072</td>\n",
       "    </tr>\n",
       "    <tr>\n",
       "      <th>70</th>\n",
       "      <td>indonesia</td>\n",
       "      <td>265200000</td>\n",
       "      <td>214</td>\n",
       "      <td>0.000081</td>\n",
       "    </tr>\n",
       "    <tr>\n",
       "      <th>34</th>\n",
       "      <td>china</td>\n",
       "      <td>1393800000</td>\n",
       "      <td>1135</td>\n",
       "      <td>0.000081</td>\n",
       "    </tr>\n",
       "    <tr>\n",
       "      <th>173</th>\n",
       "      <td>uzbekistan</td>\n",
       "      <td>32900000</td>\n",
       "      <td>29</td>\n",
       "      <td>0.000088</td>\n",
       "    </tr>\n",
       "    <tr>\n",
       "      <th>51</th>\n",
       "      <td>ethiopia</td>\n",
       "      <td>107500000</td>\n",
       "      <td>105</td>\n",
       "      <td>0.000098</td>\n",
       "    </tr>\n",
       "    <tr>\n",
       "      <th>178</th>\n",
       "      <td>zambia</td>\n",
       "      <td>17700000</td>\n",
       "      <td>25</td>\n",
       "      <td>0.000141</td>\n",
       "    </tr>\n",
       "    <tr>\n",
       "      <th>82</th>\n",
       "      <td>korea, north</td>\n",
       "      <td>25600000</td>\n",
       "      <td>39</td>\n",
       "      <td>0.000152</td>\n",
       "    </tr>\n",
       "    <tr>\n",
       "      <th>159</th>\n",
       "      <td>thailand</td>\n",
       "      <td>66200000</td>\n",
       "      <td>112</td>\n",
       "      <td>0.000169</td>\n",
       "    </tr>\n",
       "    <tr>\n",
       "      <th>13</th>\n",
       "      <td>bangladesh</td>\n",
       "      <td>166400000</td>\n",
       "      <td>323</td>\n",
       "      <td>0.000194</td>\n",
       "    </tr>\n",
       "    <tr>\n",
       "      <th>112</th>\n",
       "      <td>mozambique</td>\n",
       "      <td>30500000</td>\n",
       "      <td>60</td>\n",
       "      <td>0.000197</td>\n",
       "    </tr>\n",
       "  </tbody>\n",
       "</table>\n",
       "</div>"
      ],
      "text/plain": [
       "          country  population  number_of_articles  proportions\n",
       "69          india  1371300000                 986     0.000072\n",
       "70      indonesia   265200000                 214     0.000081\n",
       "34          china  1393800000                1135     0.000081\n",
       "173    uzbekistan    32900000                  29     0.000088\n",
       "51       ethiopia   107500000                 105     0.000098\n",
       "178        zambia    17700000                  25     0.000141\n",
       "82   korea, north    25600000                  39     0.000152\n",
       "159      thailand    66200000                 112     0.000169\n",
       "13     bangladesh   166400000                 323     0.000194\n",
       "112    mozambique    30500000                  60     0.000197"
      ]
     },
     "execution_count": 204,
     "metadata": {},
     "output_type": "execute_result"
    }
   ],
   "source": [
    "#10 lowest ranked countries with respect to number of articles as a proportion of population\n",
    "prop_articles_per_country.sort_values(by='proportions', ascending=True).head(10)[['country','population','number_of_articles','proportions']]"
   ]
  },
  {
   "cell_type": "markdown",
   "metadata": {},
   "source": [
    "The table above shows the data for the reverse case, the countries that have the lowest rank with respect to the number of articles as a proportion of their population. The list is full of developing countries, and the two most populous countries appear in this list (China and India). There's nothing that surprises me here. Even though the most populous countries have more number of populations, it's likely that there are only a few who are popular enough to have their own page."
   ]
  },
  {
   "cell_type": "markdown",
   "metadata": {},
   "source": [
    "### Analysis 2 : Countries with the highest and lowest proportion of high quality articles as compared to the total number of articles they have"
   ]
  },
  {
   "cell_type": "markdown",
   "metadata": {},
   "source": [
    "In this stage of analysis, we compute the proportion of high quality articles to total articles in the politicians category of each country. The first step of our analysis is determining the number of high quality articles. As per the definition given to us, a high quality article is one that has a quality of FA or GA. We use a groupby to get this count, after filtering our data down to FA and GA."
   ]
  },
  {
   "cell_type": "code",
   "execution_count": 180,
   "metadata": {},
   "outputs": [],
   "source": [
    "#deepcopying our data\n",
    "high_quality_count = deepcopy(final_data)\n",
    "high_quality_count =high_quality_count[(high_quality_count['article_quality'] == 'FA') | (high_quality_count['article_quality'] == 'GA')]"
   ]
  },
  {
   "cell_type": "code",
   "execution_count": 181,
   "metadata": {},
   "outputs": [],
   "source": [
    "#groupby to get the count of high quality articles by country\n",
    "high_quality_count = high_quality_count.groupby(['country','population'])['revision_id'].count().to_frame()"
   ]
  },
  {
   "cell_type": "code",
   "execution_count": 182,
   "metadata": {},
   "outputs": [],
   "source": [
    "#make sure that country and population are actual columns\n",
    "high_quality_count.reset_index(inplace=True)"
   ]
  },
  {
   "cell_type": "markdown",
   "metadata": {},
   "source": [
    "In order to get our final counts, we need to join back with the table that contains the total number of articles (the table prop_articles_per_country). In order to avoid duplication of columns, I first deepcopy this table into a new variable, rename some duplicated columns and then perform the join on country. "
   ]
  },
  {
   "cell_type": "code",
   "execution_count": 183,
   "metadata": {},
   "outputs": [],
   "source": [
    "total_articles = deepcopy(prop_articles_per_country)\n",
    "total_articles = total_articles.rename(columns={'revision_id':'total_articles'})"
   ]
  },
  {
   "cell_type": "code",
   "execution_count": 184,
   "metadata": {},
   "outputs": [],
   "source": [
    "#selecting the columns we need\n",
    "total_articles = total_articles[['country','total_articles']]"
   ]
  },
  {
   "cell_type": "code",
   "execution_count": 185,
   "metadata": {},
   "outputs": [],
   "source": [
    "#renaming columns and selecting the ones we need for this analysis\n",
    "high_quality_count = high_quality_count.rename(columns = {'revision_id':'high_quality_articles'})\n",
    "high_quality_count = high_quality_count[['country','high_quality_articles']]"
   ]
  },
  {
   "cell_type": "code",
   "execution_count": 195,
   "metadata": {},
   "outputs": [
    {
     "data": {
      "text/plain": [
       "(143, 2)"
      ]
     },
     "execution_count": 195,
     "metadata": {},
     "output_type": "execute_result"
    }
   ],
   "source": [
    "high_quality_count.shape"
   ]
  },
  {
   "cell_type": "markdown",
   "metadata": {},
   "source": [
    "You can notice that the number of countries with high quality articles is significantly smaller than the total number of countries we have in the data. So, I perform a left join on the total_articles table and fill the NaN values with 0. This ensures that we don't lose any data. \n",
    "\n",
    "The final step to get our table is calculating the proportions and adding them to a separate column of the dataframe. We do this below. The final tables are also shown below."
   ]
  },
  {
   "cell_type": "code",
   "execution_count": 196,
   "metadata": {},
   "outputs": [],
   "source": [
    "#performing the join, getting the table with total and high quality articles\n",
    "high_quality_prop = total_articles.merge(high_quality_count, left_on = 'country', right_on = 'country', how = 'left')"
   ]
  },
  {
   "cell_type": "code",
   "execution_count": 197,
   "metadata": {},
   "outputs": [],
   "source": [
    "high_quality_prop = high_quality_prop.fillna(0)\n",
    "high_quality_prop['high_quality_articles'] = high_quality_prop['high_quality_articles'].astype(int)"
   ]
  },
  {
   "cell_type": "code",
   "execution_count": 198,
   "metadata": {},
   "outputs": [],
   "source": [
    "#Calculating the proportion\n",
    "high_quality_prop['high_quality_articles_proportion'] = (high_quality_prop['high_quality_articles']/high_quality_prop['total_articles'])*100"
   ]
  },
  {
   "cell_type": "markdown",
   "metadata": {},
   "source": [
    "The final step is presenting our results. We first show the countries that have the highest proportion of high quality articles as compared to the total number of articles that they have."
   ]
  },
  {
   "cell_type": "code",
   "execution_count": 199,
   "metadata": {},
   "outputs": [
    {
     "data": {
      "text/html": [
       "<div>\n",
       "<style scoped>\n",
       "    .dataframe tbody tr th:only-of-type {\n",
       "        vertical-align: middle;\n",
       "    }\n",
       "\n",
       "    .dataframe tbody tr th {\n",
       "        vertical-align: top;\n",
       "    }\n",
       "\n",
       "    .dataframe thead th {\n",
       "        text-align: right;\n",
       "    }\n",
       "</style>\n",
       "<table border=\"1\" class=\"dataframe\">\n",
       "  <thead>\n",
       "    <tr style=\"text-align: right;\">\n",
       "      <th></th>\n",
       "      <th>country</th>\n",
       "      <th>total_articles</th>\n",
       "      <th>high_quality_articles</th>\n",
       "      <th>high_quality_articles_proportion</th>\n",
       "    </tr>\n",
       "  </thead>\n",
       "  <tbody>\n",
       "    <tr>\n",
       "      <th>6</th>\n",
       "      <td>korea, north</td>\n",
       "      <td>39</td>\n",
       "      <td>7</td>\n",
       "      <td>17.948718</td>\n",
       "    </tr>\n",
       "    <tr>\n",
       "      <th>20</th>\n",
       "      <td>saudi arabia</td>\n",
       "      <td>119</td>\n",
       "      <td>16</td>\n",
       "      <td>13.445378</td>\n",
       "    </tr>\n",
       "    <tr>\n",
       "      <th>81</th>\n",
       "      <td>central african republic</td>\n",
       "      <td>68</td>\n",
       "      <td>8</td>\n",
       "      <td>11.764706</td>\n",
       "    </tr>\n",
       "    <tr>\n",
       "      <th>87</th>\n",
       "      <td>romania</td>\n",
       "      <td>348</td>\n",
       "      <td>40</td>\n",
       "      <td>11.494253</td>\n",
       "    </tr>\n",
       "    <tr>\n",
       "      <th>69</th>\n",
       "      <td>mauritania</td>\n",
       "      <td>52</td>\n",
       "      <td>5</td>\n",
       "      <td>9.615385</td>\n",
       "    </tr>\n",
       "    <tr>\n",
       "      <th>179</th>\n",
       "      <td>tuvalu</td>\n",
       "      <td>55</td>\n",
       "      <td>5</td>\n",
       "      <td>9.090909</td>\n",
       "    </tr>\n",
       "    <tr>\n",
       "      <th>130</th>\n",
       "      <td>bhutan</td>\n",
       "      <td>33</td>\n",
       "      <td>3</td>\n",
       "      <td>9.090909</td>\n",
       "    </tr>\n",
       "    <tr>\n",
       "      <th>160</th>\n",
       "      <td>dominica</td>\n",
       "      <td>12</td>\n",
       "      <td>1</td>\n",
       "      <td>8.333333</td>\n",
       "    </tr>\n",
       "    <tr>\n",
       "      <th>17</th>\n",
       "      <td>united states</td>\n",
       "      <td>1092</td>\n",
       "      <td>82</td>\n",
       "      <td>7.509158</td>\n",
       "    </tr>\n",
       "    <tr>\n",
       "      <th>56</th>\n",
       "      <td>benin</td>\n",
       "      <td>94</td>\n",
       "      <td>7</td>\n",
       "      <td>7.446809</td>\n",
       "    </tr>\n",
       "  </tbody>\n",
       "</table>\n",
       "</div>"
      ],
      "text/plain": [
       "                      country  total_articles  high_quality_articles  \\\n",
       "6                korea, north              39                      7   \n",
       "20               saudi arabia             119                     16   \n",
       "81   central african republic              68                      8   \n",
       "87                    romania             348                     40   \n",
       "69                 mauritania              52                      5   \n",
       "179                    tuvalu              55                      5   \n",
       "130                    bhutan              33                      3   \n",
       "160                  dominica              12                      1   \n",
       "17              united states            1092                     82   \n",
       "56                      benin              94                      7   \n",
       "\n",
       "     high_quality_articles_proportion  \n",
       "6                           17.948718  \n",
       "20                          13.445378  \n",
       "81                          11.764706  \n",
       "87                          11.494253  \n",
       "69                           9.615385  \n",
       "179                          9.090909  \n",
       "130                          9.090909  \n",
       "160                          8.333333  \n",
       "17                           7.509158  \n",
       "56                           7.446809  "
      ]
     },
     "execution_count": 199,
     "metadata": {},
     "output_type": "execute_result"
    }
   ],
   "source": [
    "#Finding countries with highest proportion of high quality articles\n",
    "high_quality_prop.sort_values(by='high_quality_articles_proportion', ascending = False).head(10)[['country', 'total_articles', 'high_quality_articles','high_quality_articles_proportion']]"
   ]
  },
  {
   "cell_type": "markdown",
   "metadata": {},
   "source": [
    "The results are very interesting. The country with the highest proportion is North Korea. This is followed by Saudi Arabia. Personally, I think the large amount of interest in the way the government in these two countries function has lead to a lot of good quality articles being written about politicians in these two countries. One astute observation I notice is that Romania and United States are the only two Western nations in the entire top ten."
   ]
  },
  {
   "cell_type": "markdown",
   "metadata": {},
   "source": [
    "Now we do the same thing, but for the countries with lowest proportion of high ranked articles."
   ]
  },
  {
   "cell_type": "code",
   "execution_count": 200,
   "metadata": {},
   "outputs": [
    {
     "data": {
      "text/html": [
       "<div>\n",
       "<style scoped>\n",
       "    .dataframe tbody tr th:only-of-type {\n",
       "        vertical-align: middle;\n",
       "    }\n",
       "\n",
       "    .dataframe tbody tr th {\n",
       "        vertical-align: top;\n",
       "    }\n",
       "\n",
       "    .dataframe thead th {\n",
       "        text-align: right;\n",
       "    }\n",
       "</style>\n",
       "<table border=\"1\" class=\"dataframe\">\n",
       "  <thead>\n",
       "    <tr style=\"text-align: right;\">\n",
       "      <th></th>\n",
       "      <th>country</th>\n",
       "      <th>total_articles</th>\n",
       "      <th>high_quality_articles</th>\n",
       "      <th>high_quality_articles_proportion</th>\n",
       "    </tr>\n",
       "  </thead>\n",
       "  <tbody>\n",
       "    <tr>\n",
       "      <th>142</th>\n",
       "      <td>comoros</td>\n",
       "      <td>51</td>\n",
       "      <td>0</td>\n",
       "      <td>0.0</td>\n",
       "    </tr>\n",
       "    <tr>\n",
       "      <th>157</th>\n",
       "      <td>solomon islands</td>\n",
       "      <td>98</td>\n",
       "      <td>0</td>\n",
       "      <td>0.0</td>\n",
       "    </tr>\n",
       "    <tr>\n",
       "      <th>75</th>\n",
       "      <td>nepal</td>\n",
       "      <td>361</td>\n",
       "      <td>0</td>\n",
       "      <td>0.0</td>\n",
       "    </tr>\n",
       "    <tr>\n",
       "      <th>126</th>\n",
       "      <td>djibouti</td>\n",
       "      <td>39</td>\n",
       "      <td>0</td>\n",
       "      <td>0.0</td>\n",
       "    </tr>\n",
       "    <tr>\n",
       "      <th>74</th>\n",
       "      <td>tunisia</td>\n",
       "      <td>140</td>\n",
       "      <td>0</td>\n",
       "      <td>0.0</td>\n",
       "    </tr>\n",
       "    <tr>\n",
       "      <th>28</th>\n",
       "      <td>kazakhstan</td>\n",
       "      <td>79</td>\n",
       "      <td>0</td>\n",
       "      <td>0.0</td>\n",
       "    </tr>\n",
       "    <tr>\n",
       "      <th>100</th>\n",
       "      <td>slovakia</td>\n",
       "      <td>119</td>\n",
       "      <td>0</td>\n",
       "      <td>0.0</td>\n",
       "    </tr>\n",
       "    <tr>\n",
       "      <th>154</th>\n",
       "      <td>moldova</td>\n",
       "      <td>426</td>\n",
       "      <td>0</td>\n",
       "      <td>0.0</td>\n",
       "    </tr>\n",
       "    <tr>\n",
       "      <th>152</th>\n",
       "      <td>sao tome and principe</td>\n",
       "      <td>22</td>\n",
       "      <td>0</td>\n",
       "      <td>0.0</td>\n",
       "    </tr>\n",
       "    <tr>\n",
       "      <th>23</th>\n",
       "      <td>cameroon</td>\n",
       "      <td>105</td>\n",
       "      <td>0</td>\n",
       "      <td>0.0</td>\n",
       "    </tr>\n",
       "  </tbody>\n",
       "</table>\n",
       "</div>"
      ],
      "text/plain": [
       "                   country  total_articles  high_quality_articles  \\\n",
       "142                comoros              51                      0   \n",
       "157        solomon islands              98                      0   \n",
       "75                   nepal             361                      0   \n",
       "126               djibouti              39                      0   \n",
       "74                 tunisia             140                      0   \n",
       "28              kazakhstan              79                      0   \n",
       "100               slovakia             119                      0   \n",
       "154                moldova             426                      0   \n",
       "152  sao tome and principe              22                      0   \n",
       "23                cameroon             105                      0   \n",
       "\n",
       "     high_quality_articles_proportion  \n",
       "142                               0.0  \n",
       "157                               0.0  \n",
       "75                                0.0  \n",
       "126                               0.0  \n",
       "74                                0.0  \n",
       "28                                0.0  \n",
       "100                               0.0  \n",
       "154                               0.0  \n",
       "152                               0.0  \n",
       "23                                0.0  "
      ]
     },
     "execution_count": 200,
     "metadata": {},
     "output_type": "execute_result"
    }
   ],
   "source": [
    "#Finding the countries with the lowest proportion of high ranked articles\n",
    "high_quality_prop.sort_values(by='high_quality_articles_proportion', ascending = True).head(10)[['country', 'total_articles', 'high_quality_articles','high_quality_articles_proportion']]"
   ]
  },
  {
   "cell_type": "markdown",
   "metadata": {},
   "source": [
    "The 10 lowest proportions are 0, but we know that there are 37 countries with no high ranked articles. This concludes our research. "
   ]
  },
  {
   "cell_type": "markdown",
   "metadata": {},
   "source": [
    "## Final Reflections"
   ]
  },
  {
   "cell_type": "markdown",
   "metadata": {},
   "source": [
    "### What biases did you expect to find in the data, and why?\n",
    "I expected to find that developed countries would have a higher number of higher quality articles, and also a higher ratio of articles to population. I assumed that developed countries would have higher English-educated people, thus leading to higher quality and larger number of articles. \n",
    "\n",
    "### What are the results?\n",
    "The results turned out to be quite different. Very small countries with several thousand people had a higher proportion of articles to their population. The number of high quality articles favored countries that typically have a lot of negative publicity with respect to the way their government works (North Korea, Saudi Arabia).\n",
    "\n",
    "### What theories do you have about why the results are what they are?\n",
    "Most of this is explained throughout my notebook at each stage of analysis. "
   ]
  }
 ],
 "metadata": {
  "kernelspec": {
   "display_name": "Python 3",
   "language": "python",
   "name": "python3"
  },
  "language_info": {
   "codemirror_mode": {
    "name": "ipython",
    "version": 3
   },
   "file_extension": ".py",
   "mimetype": "text/x-python",
   "name": "python",
   "nbconvert_exporter": "python",
   "pygments_lexer": "ipython3",
   "version": "3.6.4"
  }
 },
 "nbformat": 4,
 "nbformat_minor": 2
}
